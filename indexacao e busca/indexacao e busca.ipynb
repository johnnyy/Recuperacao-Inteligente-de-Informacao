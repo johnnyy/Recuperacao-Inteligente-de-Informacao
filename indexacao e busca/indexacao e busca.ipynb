{
 "cells": [
  {
   "cell_type": "code",
   "execution_count": 1,
   "metadata": {},
   "outputs": [
    {
     "name": "stderr",
     "output_type": "stream",
     "text": [
      "[nltk_data] Downloading package stopwords to /home/johnny/nltk_data...\n",
      "[nltk_data]   Package stopwords is already up-to-date!\n",
      "[nltk_data] Downloading package punkt to /home/johnny/nltk_data...\n",
      "[nltk_data]   Package punkt is already up-to-date!\n"
     ]
    }
   ],
   "source": [
    "import os\n",
    "import json\n",
    "import pandas as pd\n",
    "from elasticsearch import Elasticsearch, helpers\n",
    "import multiprocessing\n",
    "import numpy as np\n",
    "import nltk\n",
    "from nltk.corpus import stopwords\n",
    "nltk.download('stopwords')\n",
    "nltk.download('punkt')\n",
    "stop_words = set(stopwords.words('portuguese'))"
   ]
  },
  {
   "cell_type": "code",
   "execution_count": 2,
   "metadata": {},
   "outputs": [],
   "source": [
    "def request_create_index():\n",
    "    return {\n",
    "        \"settings\": {\n",
    "            \"number_of_shards\": 1,\n",
    "            \"number_of_replicas\": 1,\n",
    "        },\n",
    "        \"mappings\": {\n",
    "            \"properties\": {\n",
    "              \"id\": { \"type\": \"text\" },\n",
    "              \"title\": { \"type\": \"text\" },\n",
    "              \"description\": { \"type\": \"text\" },\n",
    "\n",
    "            }\n",
    "        }\n",
    "    }\n",
    "\n",
    "\n",
    "def create_request_document(json_text, index):\n",
    "    description = json_text[\"description\"]\n",
    "    if pd.isna(description):\n",
    "        description = \"\"\n",
    "        \n",
    "    return {\n",
    "        \"_op_type\": \"create\",\n",
    "        \"_index\": index,\n",
    "        \"_source\": {\n",
    "            \"id\": json_text[\"doc_id\"],\n",
    "            \"title\": json_text[\"title\"],\n",
    "            \"description\": description,\n",
    "        },\n",
    "    } \n",
    "\n",
    "\n",
    "def request_search(query, size):\n",
    "    return {\n",
    "        \"_source\": [\"id\"],\n",
    "        \"from\": 0,\n",
    "        \"size\": size,\n",
    "        \"query\": {\"match\": {\"corpus\": query}},\n",
    "    }\n",
    "\n",
    "\n",
    "def request_match_all():\n",
    "    body = {\"query\": {\"match_all\": {}}}\n",
    "    return body"
   ]
  },
  {
   "cell_type": "code",
   "execution_count": 3,
   "metadata": {},
   "outputs": [],
   "source": [
    "class Elasticsearch_service:\n",
    "    def __init__(self, index_name, ip=\"localhost\", timeout=1000):\n",
    "        self.ip = ip\n",
    "        self.es = Elasticsearch(hosts=ip)\n",
    "        self.timeout = timeout\n",
    "        self.index_name = index_name\n",
    "\n",
    "    def create_index(self):\n",
    "        request_body = request_create_index()\n",
    "        try:\n",
    "            ret = self.es.indices.create(\n",
    "                index=self.index_name, body=request_body, request_timeout=self.timeout\n",
    "            )\n",
    "        except:\n",
    "            return False\n",
    "        return ret[\"acknowledged\"]\n",
    "\n",
    "    def indexing(self, list_json_text):\n",
    "        \n",
    "        request_body = [create_request_document(doc, self.index_name) for doc in list_json_text]\n",
    "        try:\n",
    "            res = helpers.bulk(self.es, request_body, request_timeout=self.timeout)\n",
    "        except:\n",
    "            return False\n",
    "        return True\n",
    "\n",
    "    def index_exists(self):\n",
    "        return self.es.indices.exists(index=self.index_name)\n",
    "\n",
    "    def delete_index(self):\n",
    "        self.es.indices.delete(index=self.index_name)\n",
    "\n",
    "    def search(self, query, topk=40):\n",
    "\n",
    "        request_body = request_search(query, topk)\n",
    "        try:\n",
    "            text_return = self.es.search(\n",
    "                body=request_body, index=self.index_name, request_timeout=self.timeout\n",
    "            )\n",
    "        except:\n",
    "            raise ValueError(\"Search Error!\")\n",
    "\n",
    "        hits = []\n",
    "        for hit in text_return[\"hits\"][\"hits\"]:\n",
    "            hits.append(hit[\"_source\"][\"id\"])\n",
    "\n",
    "        return hits"
   ]
  },
  {
   "cell_type": "markdown",
   "metadata": {},
   "source": [
    "### Inicio"
   ]
  },
  {
   "cell_type": "code",
   "execution_count": 4,
   "metadata": {},
   "outputs": [],
   "source": [
    "df = pd.read_csv(\"../data/produtos.csv\")"
   ]
  },
  {
   "cell_type": "code",
   "execution_count": 5,
   "metadata": {},
   "outputs": [],
   "source": [
    "df = df.fillna(\"\")"
   ]
  },
  {
   "cell_type": "markdown",
   "metadata": {},
   "source": [
    "### Tokenização"
   ]
  },
  {
   "cell_type": "code",
   "execution_count": 6,
   "metadata": {},
   "outputs": [],
   "source": [
    "df['tokenized_title'] = df.apply(lambda row: nltk.word_tokenize(row['title']), axis=1)\n",
    "df['tokenized_description'] = df.apply(lambda row: nltk.word_tokenize(row['description']), axis=1)"
   ]
  },
  {
   "cell_type": "code",
   "execution_count": 7,
   "metadata": {},
   "outputs": [
    {
     "data": {
      "text/html": [
       "<div>\n",
       "<style scoped>\n",
       "    .dataframe tbody tr th:only-of-type {\n",
       "        vertical-align: middle;\n",
       "    }\n",
       "\n",
       "    .dataframe tbody tr th {\n",
       "        vertical-align: top;\n",
       "    }\n",
       "\n",
       "    .dataframe thead th {\n",
       "        text-align: right;\n",
       "    }\n",
       "</style>\n",
       "<table border=\"1\" class=\"dataframe\">\n",
       "  <thead>\n",
       "    <tr style=\"text-align: right;\">\n",
       "      <th></th>\n",
       "      <th>doc_id</th>\n",
       "      <th>title</th>\n",
       "      <th>description</th>\n",
       "      <th>consulta_1</th>\n",
       "      <th>consulta_2</th>\n",
       "      <th>tokenized_title</th>\n",
       "      <th>tokenized_description</th>\n",
       "    </tr>\n",
       "  </thead>\n",
       "  <tbody>\n",
       "    <tr>\n",
       "      <th>0</th>\n",
       "      <td>0</td>\n",
       "      <td>Samsung Smart TV 55\" Neo QLED 4K 55QN85A Mini ...</td>\n",
       "      <td></td>\n",
       "      <td>1</td>\n",
       "      <td>0</td>\n",
       "      <td>[Samsung, Smart, TV, 55, '', Neo, QLED, 4K, 55...</td>\n",
       "      <td>[]</td>\n",
       "    </tr>\n",
       "    <tr>\n",
       "      <th>1</th>\n",
       "      <td>1</td>\n",
       "      <td>Smart TV LED LG 24\" Monitor Wi-Fi Webos 3.5 DT...</td>\n",
       "      <td>Smart TV Monitor LG 24\" LED Wi-Fi webOS 3.5 DT...</td>\n",
       "      <td>0</td>\n",
       "      <td>0</td>\n",
       "      <td>[Smart, TV, LED, LG, 24, '', Monitor, Wi-Fi, W...</td>\n",
       "      <td>[Smart, TV, Monitor, LG, 24, '', LED, Wi-Fi, w...</td>\n",
       "    </tr>\n",
       "    <tr>\n",
       "      <th>2</th>\n",
       "      <td>2</td>\n",
       "      <td>Samsung Smart TV 50\" QLED 4K The Frame 2021 50...</td>\n",
       "      <td></td>\n",
       "      <td>0</td>\n",
       "      <td>0</td>\n",
       "      <td>[Samsung, Smart, TV, 50, '', QLED, 4K, The, Fr...</td>\n",
       "      <td>[]</td>\n",
       "    </tr>\n",
       "    <tr>\n",
       "      <th>3</th>\n",
       "      <td>3</td>\n",
       "      <td>Android Tv Led 43\" Tcl 43s6500 Bluetooth, Cont...</td>\n",
       "      <td></td>\n",
       "      <td>0</td>\n",
       "      <td>0</td>\n",
       "      <td>[Android, Tv, Led, 43, '', Tcl, 43s6500, Bluet...</td>\n",
       "      <td>[]</td>\n",
       "    </tr>\n",
       "    <tr>\n",
       "      <th>4</th>\n",
       "      <td>4</td>\n",
       "      <td>Smart TV LED 55” Philco PTV55Q20SNBL Ultra HD ...</td>\n",
       "      <td></td>\n",
       "      <td>0</td>\n",
       "      <td>0</td>\n",
       "      <td>[Smart, TV, LED, 55, ”, Philco, PTV55Q20SNBL, ...</td>\n",
       "      <td>[]</td>\n",
       "    </tr>\n",
       "  </tbody>\n",
       "</table>\n",
       "</div>"
      ],
      "text/plain": [
       "   doc_id                                              title  \\\n",
       "0       0  Samsung Smart TV 55\" Neo QLED 4K 55QN85A Mini ...   \n",
       "1       1  Smart TV LED LG 24\" Monitor Wi-Fi Webos 3.5 DT...   \n",
       "2       2  Samsung Smart TV 50\" QLED 4K The Frame 2021 50...   \n",
       "3       3  Android Tv Led 43\" Tcl 43s6500 Bluetooth, Cont...   \n",
       "4       4  Smart TV LED 55” Philco PTV55Q20SNBL Ultra HD ...   \n",
       "\n",
       "                                         description  consulta_1  consulta_2  \\\n",
       "0                                                              1           0   \n",
       "1  Smart TV Monitor LG 24\" LED Wi-Fi webOS 3.5 DT...           0           0   \n",
       "2                                                              0           0   \n",
       "3                                                              0           0   \n",
       "4                                                              0           0   \n",
       "\n",
       "                                     tokenized_title  \\\n",
       "0  [Samsung, Smart, TV, 55, '', Neo, QLED, 4K, 55...   \n",
       "1  [Smart, TV, LED, LG, 24, '', Monitor, Wi-Fi, W...   \n",
       "2  [Samsung, Smart, TV, 50, '', QLED, 4K, The, Fr...   \n",
       "3  [Android, Tv, Led, 43, '', Tcl, 43s6500, Bluet...   \n",
       "4  [Smart, TV, LED, 55, ”, Philco, PTV55Q20SNBL, ...   \n",
       "\n",
       "                               tokenized_description  \n",
       "0                                                 []  \n",
       "1  [Smart, TV, Monitor, LG, 24, '', LED, Wi-Fi, w...  \n",
       "2                                                 []  \n",
       "3                                                 []  \n",
       "4                                                 []  "
      ]
     },
     "execution_count": 7,
     "metadata": {},
     "output_type": "execute_result"
    }
   ],
   "source": [
    "df.head()"
   ]
  },
  {
   "cell_type": "code",
   "execution_count": 8,
   "metadata": {},
   "outputs": [],
   "source": [
    "def remove_stopwords(palavras):\n",
    "    palavras = [palavra.lower() for palavra in palavras]\n",
    "    result = []\n",
    "    for palavra in palavras:\n",
    "        if palavra not in stop_words:\n",
    "            result.append(palavra)\n",
    "    return result"
   ]
  },
  {
   "cell_type": "code",
   "execution_count": 9,
   "metadata": {},
   "outputs": [],
   "source": [
    "stemmer = nltk.stem.RSLPStemmer()\n",
    "def stemming(palavras):\n",
    "    result = []\n",
    "    for w in palavras:\n",
    "        result.append(stemmer.stem(w))\n",
    "    return result"
   ]
  },
  {
   "cell_type": "code",
   "execution_count": 10,
   "metadata": {},
   "outputs": [],
   "source": [
    "def create_base(df_prod, processings):\n",
    "    d_desc = df_prod['tokenized_description']\n",
    "    d_title = df_prod['tokenized_title']\n",
    "\n",
    "    if \"stopwords\" in processings:\n",
    "        d_desc = d_desc.apply(lambda row: remove_stopwords(row))\n",
    "        d_title = d_title.apply(lambda row: remove_stopwords(row))\n",
    "\n",
    "    \n",
    "    if \"stemming\" in processings:\n",
    "        d_desc = d_desc.apply(lambda row: stemming(row))\n",
    "        d_title = d_title.apply(lambda row: stemming(row))\n",
    "\n",
    "    df_final = pd.DataFrame()\n",
    "    df_final['doc_id'] = df_prod['doc_id']\n",
    "    df_final['title'] = d_title.str.join(\" \")\n",
    "    df_final['description'] = d_desc.str.join(\" \")\n",
    "    return df_final"
   ]
  },
  {
   "cell_type": "code",
   "execution_count": 11,
   "metadata": {},
   "outputs": [],
   "source": [
    "Base1 = create_base(df, [])\n",
    "Base2 = create_base(df, ['stopwords'])\n",
    "Base3 = create_base(df, ['stemming'])\n",
    "Base4 = create_base(df, ['stopwords','stemming'])"
   ]
  },
  {
   "cell_type": "markdown",
   "metadata": {},
   "source": [
    "### Base 1"
   ]
  },
  {
   "cell_type": "code",
   "execution_count": 12,
   "metadata": {},
   "outputs": [],
   "source": [
    "b1 = Base1.to_dict('records')"
   ]
  },
  {
   "cell_type": "markdown",
   "metadata": {},
   "source": [
    "Criar indice da base 1"
   ]
  },
  {
   "cell_type": "code",
   "execution_count": 13,
   "metadata": {},
   "outputs": [
    {
     "data": {
      "text/plain": [
       "True"
      ]
     },
     "execution_count": 13,
     "metadata": {},
     "output_type": "execute_result"
    }
   ],
   "source": [
    "es = Elasticsearch_service(\"base_1\")\n",
    "es.create_index()"
   ]
  },
  {
   "cell_type": "code",
   "execution_count": 14,
   "metadata": {
    "scrolled": false
   },
   "outputs": [
    {
     "data": {
      "text/plain": [
       "True"
      ]
     },
     "execution_count": 14,
     "metadata": {},
     "output_type": "execute_result"
    }
   ],
   "source": [
    "es.indexing(b1)"
   ]
  },
  {
   "cell_type": "markdown",
   "metadata": {},
   "source": [
    "### Base 2"
   ]
  },
  {
   "cell_type": "code",
   "execution_count": 15,
   "metadata": {},
   "outputs": [],
   "source": [
    "b2 = Base2.to_dict('records')"
   ]
  },
  {
   "cell_type": "markdown",
   "metadata": {},
   "source": [
    "Criar indice da base 2"
   ]
  },
  {
   "cell_type": "code",
   "execution_count": 16,
   "metadata": {},
   "outputs": [
    {
     "data": {
      "text/plain": [
       "True"
      ]
     },
     "execution_count": 16,
     "metadata": {},
     "output_type": "execute_result"
    }
   ],
   "source": [
    "es = Elasticsearch_service(\"base_2\")\n",
    "es.create_index()"
   ]
  },
  {
   "cell_type": "code",
   "execution_count": 17,
   "metadata": {},
   "outputs": [
    {
     "data": {
      "text/plain": [
       "True"
      ]
     },
     "execution_count": 17,
     "metadata": {},
     "output_type": "execute_result"
    }
   ],
   "source": [
    "es.indexing(b2)"
   ]
  },
  {
   "cell_type": "markdown",
   "metadata": {},
   "source": [
    "### Base 3"
   ]
  },
  {
   "cell_type": "code",
   "execution_count": 18,
   "metadata": {},
   "outputs": [],
   "source": [
    "b3 = Base3.to_dict('records')"
   ]
  },
  {
   "cell_type": "markdown",
   "metadata": {},
   "source": [
    "Criar indice da base 3"
   ]
  },
  {
   "cell_type": "code",
   "execution_count": 20,
   "metadata": {},
   "outputs": [
    {
     "data": {
      "text/plain": [
       "True"
      ]
     },
     "execution_count": 20,
     "metadata": {},
     "output_type": "execute_result"
    }
   ],
   "source": [
    "es = Elasticsearch_service(\"base_3\")\n",
    "es.create_index()"
   ]
  },
  {
   "cell_type": "code",
   "execution_count": 21,
   "metadata": {},
   "outputs": [
    {
     "data": {
      "text/plain": [
       "True"
      ]
     },
     "execution_count": 21,
     "metadata": {},
     "output_type": "execute_result"
    }
   ],
   "source": [
    "es.indexing(b3)"
   ]
  },
  {
   "cell_type": "markdown",
   "metadata": {},
   "source": [
    "### Base 4"
   ]
  },
  {
   "cell_type": "code",
   "execution_count": 22,
   "metadata": {},
   "outputs": [],
   "source": [
    "b4 = Base4.to_dict('records')"
   ]
  },
  {
   "cell_type": "markdown",
   "metadata": {},
   "source": [
    "Criar indice da base 4"
   ]
  },
  {
   "cell_type": "code",
   "execution_count": 24,
   "metadata": {},
   "outputs": [
    {
     "data": {
      "text/plain": [
       "True"
      ]
     },
     "execution_count": 24,
     "metadata": {},
     "output_type": "execute_result"
    }
   ],
   "source": [
    "es = Elasticsearch_service(\"base_4\")\n",
    "es.create_index()"
   ]
  },
  {
   "cell_type": "code",
   "execution_count": 25,
   "metadata": {},
   "outputs": [
    {
     "data": {
      "text/plain": [
       "True"
      ]
     },
     "execution_count": 25,
     "metadata": {},
     "output_type": "execute_result"
    }
   ],
   "source": [
    "es.indexing(b4)"
   ]
  }
 ],
 "metadata": {
  "kernelspec": {
   "display_name": "Python 3",
   "language": "python",
   "name": "python3"
  },
  "language_info": {
   "codemirror_mode": {
    "name": "ipython",
    "version": 3
   },
   "file_extension": ".py",
   "mimetype": "text/x-python",
   "name": "python",
   "nbconvert_exporter": "python",
   "pygments_lexer": "ipython3",
   "version": "3.8.3"
  }
 },
 "nbformat": 4,
 "nbformat_minor": 4
}
