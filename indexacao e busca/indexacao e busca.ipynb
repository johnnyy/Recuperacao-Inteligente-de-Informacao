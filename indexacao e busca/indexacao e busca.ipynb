{
 "cells": [
  {
   "cell_type": "code",
   "execution_count": 1,
   "metadata": {},
   "outputs": [
    {
     "name": "stderr",
     "output_type": "stream",
     "text": [
      "[nltk_data] Downloading package stopwords to /home/johnny/nltk_data...\n",
      "[nltk_data]   Package stopwords is already up-to-date!\n",
      "[nltk_data] Downloading package punkt to /home/johnny/nltk_data...\n",
      "[nltk_data]   Package punkt is already up-to-date!\n"
     ]
    }
   ],
   "source": [
    "import os\n",
    "import json\n",
    "import pandas as pd\n",
    "from elasticsearch import Elasticsearch, helpers\n",
    "import multiprocessing\n",
    "import numpy as np\n",
    "import nltk\n",
    "from nltk.corpus import stopwords\n",
    "nltk.download('stopwords')\n",
    "nltk.download('punkt')\n",
    "stop_words = set(stopwords.words('portuguese'))"
   ]
  },
  {
   "cell_type": "code",
   "execution_count": 2,
   "metadata": {},
   "outputs": [],
   "source": [
    "def request_create_index():\n",
    "    return {\n",
    "        \"settings\": {\n",
    "            \"number_of_shards\": 1,\n",
    "            \"number_of_replicas\": 1,\n",
    "        },\n",
    "        \"mappings\": {\n",
    "            \"properties\": {\n",
    "              \"id\": { \"type\": \"text\" },\n",
    "              \"title\": { \"type\": \"text\" },\n",
    "              \"description\": { \"type\": \"text\" },\n",
    "\n",
    "            }\n",
    "        }\n",
    "    }\n",
    "\n",
    "\n",
    "def create_request_document(json_text, index):\n",
    "    description = json_text[\"description\"]\n",
    "    if pd.isna(description):\n",
    "        description = \"\"\n",
    "        \n",
    "    return {\n",
    "        \"_op_type\": \"create\",\n",
    "        \"_index\": index,\n",
    "        \"_source\": {\n",
    "            \"id\": json_text[\"doc_id\"],\n",
    "            \"title\": json_text[\"title\"],\n",
    "            \"description\": description,\n",
    "        },\n",
    "    } \n",
    "\n",
    "\n",
    "def request_search(query):\n",
    "    return {\n",
    "        \"from\":0, \"size\":107,\n",
    "        \"_source\": [\"id\", \"title\", \"description\"],\n",
    "            \"query\":{\n",
    "                \"multi_match\": {\n",
    "                    \"query\":    query,\n",
    "                    \"fields\": [\"title\", \"description\"]\n",
    "                }\n",
    "            }\n",
    "        }\n",
    "\n",
    "def request_match_all():\n",
    "    body = {\"query\": {\"match_all\": {}}}\n",
    "    return body"
   ]
  },
  {
   "cell_type": "code",
   "execution_count": 3,
   "metadata": {},
   "outputs": [],
   "source": [
    "class Elasticsearch_service:\n",
    "    def __init__(self, index_name, ip=\"localhost\", timeout=1000):\n",
    "        self.ip = ip\n",
    "        self.es = Elasticsearch(hosts=ip)\n",
    "        self.timeout = timeout\n",
    "        self.index_name = index_name\n",
    "\n",
    "    def create_index(self):\n",
    "        request_body = request_create_index()\n",
    "        try:\n",
    "            ret = self.es.indices.create(\n",
    "                index=self.index_name, body=request_body, request_timeout=self.timeout\n",
    "            )\n",
    "        except:\n",
    "            return False\n",
    "        return ret[\"acknowledged\"]\n",
    "\n",
    "    def indexing(self, list_json_text):\n",
    "        \n",
    "        request_body = [create_request_document(doc, self.index_name) for doc in list_json_text]\n",
    "        try:\n",
    "            res = helpers.bulk(self.es, request_body, request_timeout=self.timeout)\n",
    "        except:\n",
    "            return False\n",
    "        return True\n",
    "\n",
    "    def index_exists(self):\n",
    "        return self.es.indices.exists(index=self.index_name)\n",
    "\n",
    "    def delete_index(self):\n",
    "        self.es.indices.delete(index=self.index_name)\n",
    "\n",
    "    def search(self, query):\n",
    "        request_body = request_search(query)\n",
    "        try:\n",
    "            text_return = self.es.search(\n",
    "                body=request_body, index=self.index_name, request_timeout=self.timeout\n",
    "            )\n",
    "        except:\n",
    "            raise ValueError(\"Search Error!\")\n",
    "\n",
    "        hits = []\n",
    "        for hit in text_return[\"hits\"][\"hits\"]:\n",
    "            hits.append({\"id\": hit[\"_source\"][\"id\"],\"title\": hit[\"_source\"][\"title\"], \"description\": hit[\"_source\"][\"description\"]})\n",
    "\n",
    "        return hits"
   ]
  },
  {
   "cell_type": "markdown",
   "metadata": {},
   "source": [
    "### Inicio"
   ]
  },
  {
   "cell_type": "code",
   "execution_count": 4,
   "metadata": {},
   "outputs": [],
   "source": [
    "df = pd.read_csv(\"../data/produtos.csv\")"
   ]
  },
  {
   "cell_type": "code",
   "execution_count": 5,
   "metadata": {},
   "outputs": [],
   "source": [
    "df = df.fillna(\"\")"
   ]
  },
  {
   "cell_type": "markdown",
   "metadata": {},
   "source": [
    "### Tokenização"
   ]
  },
  {
   "cell_type": "code",
   "execution_count": 6,
   "metadata": {},
   "outputs": [],
   "source": [
    "df['tokenized_title'] = df.apply(lambda row: nltk.word_tokenize(row['title']), axis=1)\n",
    "df['tokenized_description'] = df.apply(lambda row: nltk.word_tokenize(row['description']), axis=1)"
   ]
  },
  {
   "cell_type": "code",
   "execution_count": 7,
   "metadata": {},
   "outputs": [
    {
     "data": {
      "text/html": [
       "<div>\n",
       "<style scoped>\n",
       "    .dataframe tbody tr th:only-of-type {\n",
       "        vertical-align: middle;\n",
       "    }\n",
       "\n",
       "    .dataframe tbody tr th {\n",
       "        vertical-align: top;\n",
       "    }\n",
       "\n",
       "    .dataframe thead th {\n",
       "        text-align: right;\n",
       "    }\n",
       "</style>\n",
       "<table border=\"1\" class=\"dataframe\">\n",
       "  <thead>\n",
       "    <tr style=\"text-align: right;\">\n",
       "      <th></th>\n",
       "      <th>doc_id</th>\n",
       "      <th>title</th>\n",
       "      <th>description</th>\n",
       "      <th>consulta_1</th>\n",
       "      <th>consulta_2</th>\n",
       "      <th>tokenized_title</th>\n",
       "      <th>tokenized_description</th>\n",
       "    </tr>\n",
       "  </thead>\n",
       "  <tbody>\n",
       "    <tr>\n",
       "      <th>0</th>\n",
       "      <td>0</td>\n",
       "      <td>Samsung Smart TV 55\" Neo QLED 4K 55QN85A Mini ...</td>\n",
       "      <td></td>\n",
       "      <td>1</td>\n",
       "      <td>0</td>\n",
       "      <td>[Samsung, Smart, TV, 55, '', Neo, QLED, 4K, 55...</td>\n",
       "      <td>[]</td>\n",
       "    </tr>\n",
       "    <tr>\n",
       "      <th>1</th>\n",
       "      <td>1</td>\n",
       "      <td>Smart TV LED LG 24\" Monitor Wi-Fi Webos 3.5 DT...</td>\n",
       "      <td>Smart TV Monitor LG 24\" LED Wi-Fi webOS 3.5 DT...</td>\n",
       "      <td>0</td>\n",
       "      <td>0</td>\n",
       "      <td>[Smart, TV, LED, LG, 24, '', Monitor, Wi-Fi, W...</td>\n",
       "      <td>[Smart, TV, Monitor, LG, 24, '', LED, Wi-Fi, w...</td>\n",
       "    </tr>\n",
       "    <tr>\n",
       "      <th>2</th>\n",
       "      <td>2</td>\n",
       "      <td>Samsung Smart TV 50\" QLED 4K The Frame 2021 50...</td>\n",
       "      <td></td>\n",
       "      <td>0</td>\n",
       "      <td>0</td>\n",
       "      <td>[Samsung, Smart, TV, 50, '', QLED, 4K, The, Fr...</td>\n",
       "      <td>[]</td>\n",
       "    </tr>\n",
       "    <tr>\n",
       "      <th>3</th>\n",
       "      <td>3</td>\n",
       "      <td>Android Tv Led 43\" Tcl 43s6500 Bluetooth, Cont...</td>\n",
       "      <td></td>\n",
       "      <td>0</td>\n",
       "      <td>0</td>\n",
       "      <td>[Android, Tv, Led, 43, '', Tcl, 43s6500, Bluet...</td>\n",
       "      <td>[]</td>\n",
       "    </tr>\n",
       "    <tr>\n",
       "      <th>4</th>\n",
       "      <td>4</td>\n",
       "      <td>Smart TV LED 55” Philco PTV55Q20SNBL Ultra HD ...</td>\n",
       "      <td></td>\n",
       "      <td>0</td>\n",
       "      <td>0</td>\n",
       "      <td>[Smart, TV, LED, 55, ”, Philco, PTV55Q20SNBL, ...</td>\n",
       "      <td>[]</td>\n",
       "    </tr>\n",
       "  </tbody>\n",
       "</table>\n",
       "</div>"
      ],
      "text/plain": [
       "   doc_id                                              title  \\\n",
       "0       0  Samsung Smart TV 55\" Neo QLED 4K 55QN85A Mini ...   \n",
       "1       1  Smart TV LED LG 24\" Monitor Wi-Fi Webos 3.5 DT...   \n",
       "2       2  Samsung Smart TV 50\" QLED 4K The Frame 2021 50...   \n",
       "3       3  Android Tv Led 43\" Tcl 43s6500 Bluetooth, Cont...   \n",
       "4       4  Smart TV LED 55” Philco PTV55Q20SNBL Ultra HD ...   \n",
       "\n",
       "                                         description  consulta_1  consulta_2  \\\n",
       "0                                                              1           0   \n",
       "1  Smart TV Monitor LG 24\" LED Wi-Fi webOS 3.5 DT...           0           0   \n",
       "2                                                              0           0   \n",
       "3                                                              0           0   \n",
       "4                                                              0           0   \n",
       "\n",
       "                                     tokenized_title  \\\n",
       "0  [Samsung, Smart, TV, 55, '', Neo, QLED, 4K, 55...   \n",
       "1  [Smart, TV, LED, LG, 24, '', Monitor, Wi-Fi, W...   \n",
       "2  [Samsung, Smart, TV, 50, '', QLED, 4K, The, Fr...   \n",
       "3  [Android, Tv, Led, 43, '', Tcl, 43s6500, Bluet...   \n",
       "4  [Smart, TV, LED, 55, ”, Philco, PTV55Q20SNBL, ...   \n",
       "\n",
       "                               tokenized_description  \n",
       "0                                                 []  \n",
       "1  [Smart, TV, Monitor, LG, 24, '', LED, Wi-Fi, w...  \n",
       "2                                                 []  \n",
       "3                                                 []  \n",
       "4                                                 []  "
      ]
     },
     "execution_count": 7,
     "metadata": {},
     "output_type": "execute_result"
    }
   ],
   "source": [
    "df.head()"
   ]
  },
  {
   "cell_type": "code",
   "execution_count": 8,
   "metadata": {},
   "outputs": [],
   "source": [
    "def remove_stopwords(palavras):\n",
    "    palavras = [palavra.lower() for palavra in palavras]\n",
    "    result = []\n",
    "    for palavra in palavras:\n",
    "        if palavra not in stop_words:\n",
    "            result.append(palavra)\n",
    "    return result"
   ]
  },
  {
   "cell_type": "code",
   "execution_count": 9,
   "metadata": {},
   "outputs": [],
   "source": [
    "stemmer = nltk.stem.RSLPStemmer()\n",
    "def stemming(palavras):\n",
    "    result = []\n",
    "    for w in palavras:\n",
    "        result.append(stemmer.stem(w))\n",
    "    return result"
   ]
  },
  {
   "cell_type": "code",
   "execution_count": 10,
   "metadata": {},
   "outputs": [],
   "source": [
    "def create_base(df_prod, processings):\n",
    "    d_desc = df_prod['tokenized_description']\n",
    "    d_title = df_prod['tokenized_title']\n",
    "\n",
    "    if \"stopwords\" in processings:\n",
    "        d_desc = d_desc.apply(lambda row: remove_stopwords(row))\n",
    "        d_title = d_title.apply(lambda row: remove_stopwords(row))\n",
    "\n",
    "    \n",
    "    if \"stemming\" in processings:\n",
    "        d_desc = d_desc.apply(lambda row: stemming(row))\n",
    "        d_title = d_title.apply(lambda row: stemming(row))\n",
    "\n",
    "    df_final = pd.DataFrame()\n",
    "    df_final['doc_id'] = df_prod['doc_id']\n",
    "    df_final['title'] = d_title.str.join(\" \")\n",
    "    df_final['description'] = d_desc.str.join(\" \")\n",
    "    return df_final"
   ]
  },
  {
   "cell_type": "code",
   "execution_count": 11,
   "metadata": {},
   "outputs": [],
   "source": [
    "Base1 = create_base(df, [])\n",
    "Base2 = create_base(df, ['stopwords'])\n",
    "Base3 = create_base(df, ['stemming'])\n",
    "Base4 = create_base(df, ['stopwords','stemming'])"
   ]
  },
  {
   "cell_type": "code",
   "execution_count": 12,
   "metadata": {},
   "outputs": [],
   "source": [
    "consulta_1 = \"televisão com tela de bordas infinitas\"\n",
    "consulta_2 = \"smartphone samsung android com baterias de longa duração\""
   ]
  },
  {
   "cell_type": "markdown",
   "metadata": {},
   "source": [
    "### Base 1"
   ]
  },
  {
   "cell_type": "code",
   "execution_count": 13,
   "metadata": {},
   "outputs": [],
   "source": [
    "b1 = Base1.to_dict('records')"
   ]
  },
  {
   "cell_type": "markdown",
   "metadata": {},
   "source": [
    "##### Criar indice da base 1:"
   ]
  },
  {
   "cell_type": "code",
   "execution_count": 14,
   "metadata": {},
   "outputs": [
    {
     "data": {
      "text/plain": [
       "True"
      ]
     },
     "execution_count": 14,
     "metadata": {},
     "output_type": "execute_result"
    }
   ],
   "source": [
    "es = Elasticsearch_service(\"base_1\")\n",
    "es.create_index()"
   ]
  },
  {
   "cell_type": "code",
   "execution_count": 15,
   "metadata": {
    "scrolled": false
   },
   "outputs": [
    {
     "data": {
      "text/plain": [
       "True"
      ]
     },
     "execution_count": 15,
     "metadata": {},
     "output_type": "execute_result"
    }
   ],
   "source": [
    "es.indexing(b1)"
   ]
  },
  {
   "cell_type": "markdown",
   "metadata": {},
   "source": [
    "##### Busca:"
   ]
  },
  {
   "cell_type": "code",
   "execution_count": 16,
   "metadata": {},
   "outputs": [],
   "source": [
    "df_result_search = pd.DataFrame()"
   ]
  },
  {
   "cell_type": "markdown",
   "metadata": {},
   "source": [
    "Consulta 1"
   ]
  },
  {
   "cell_type": "code",
   "execution_count": 17,
   "metadata": {},
   "outputs": [
    {
     "data": {
      "text/plain": [
       "'televisão com tela de bordas infinitas'"
      ]
     },
     "execution_count": 17,
     "metadata": {},
     "output_type": "execute_result"
    }
   ],
   "source": [
    "consulta_1"
   ]
  },
  {
   "cell_type": "code",
   "execution_count": 20,
   "metadata": {},
   "outputs": [
    {
     "data": {
      "text/html": [
       "<div>\n",
       "<style scoped>\n",
       "    .dataframe tbody tr th:only-of-type {\n",
       "        vertical-align: middle;\n",
       "    }\n",
       "\n",
       "    .dataframe tbody tr th {\n",
       "        vertical-align: top;\n",
       "    }\n",
       "\n",
       "    .dataframe thead th {\n",
       "        text-align: right;\n",
       "    }\n",
       "</style>\n",
       "<table border=\"1\" class=\"dataframe\">\n",
       "  <thead>\n",
       "    <tr style=\"text-align: right;\">\n",
       "      <th></th>\n",
       "      <th>id</th>\n",
       "      <th>title</th>\n",
       "      <th>description</th>\n",
       "    </tr>\n",
       "  </thead>\n",
       "  <tbody>\n",
       "    <tr>\n",
       "      <th>0</th>\n",
       "      <td>50</td>\n",
       "      <td>Smart TV 40 '' Philco PTV40G60SNBL FHD com Tel...</td>\n",
       "      <td>Televisor com tela de 40 polegadas em resoluçã...</td>\n",
       "    </tr>\n",
       "    <tr>\n",
       "      <th>1</th>\n",
       "      <td>3</td>\n",
       "      <td>Android Tv Led 43 '' Tcl 43s6500 Bluetooth , C...</td>\n",
       "      <td></td>\n",
       "    </tr>\n",
       "    <tr>\n",
       "      <th>2</th>\n",
       "      <td>32</td>\n",
       "      <td>Smart Tv Philips 43 '' Full Hd Sem Bordas Hdr ...</td>\n",
       "      <td></td>\n",
       "    </tr>\n",
       "    <tr>\n",
       "      <th>3</th>\n",
       "      <td>52</td>\n",
       "      <td>Smart TV Android LED 32 '' Semp 32S5300 Blueto...</td>\n",
       "      <td></td>\n",
       "    </tr>\n",
       "    <tr>\n",
       "      <th>4</th>\n",
       "      <td>94</td>\n",
       "      <td>Smartphone Samsung Galaxy M62 128GB 8GB RAM Ba...</td>\n",
       "      <td></td>\n",
       "    </tr>\n",
       "  </tbody>\n",
       "</table>\n",
       "</div>"
      ],
      "text/plain": [
       "   id                                              title  \\\n",
       "0  50  Smart TV 40 '' Philco PTV40G60SNBL FHD com Tel...   \n",
       "1   3  Android Tv Led 43 '' Tcl 43s6500 Bluetooth , C...   \n",
       "2  32  Smart Tv Philips 43 '' Full Hd Sem Bordas Hdr ...   \n",
       "3  52  Smart TV Android LED 32 '' Semp 32S5300 Blueto...   \n",
       "4  94  Smartphone Samsung Galaxy M62 128GB 8GB RAM Ba...   \n",
       "\n",
       "                                         description  \n",
       "0  Televisor com tela de 40 polegadas em resoluçã...  \n",
       "1                                                     \n",
       "2                                                     \n",
       "3                                                     \n",
       "4                                                     "
      ]
     },
     "execution_count": 20,
     "metadata": {},
     "output_type": "execute_result"
    }
   ],
   "source": [
    "df_consulta1 = es.search(consulta_1)\n",
    "df_consulta1 = pd.DataFrame(df_consulta1)\n",
    "df_consulta1.head()"
   ]
  },
  {
   "cell_type": "code",
   "execution_count": 22,
   "metadata": {},
   "outputs": [],
   "source": [
    "df_result_search[\"consulta_1_B1\"] = df_consulta1[\"id\"]"
   ]
  },
  {
   "cell_type": "markdown",
   "metadata": {},
   "source": [
    "Consulta 2"
   ]
  },
  {
   "cell_type": "code",
   "execution_count": 23,
   "metadata": {},
   "outputs": [
    {
     "data": {
      "text/plain": [
       "'smartphone samsung android com baterias de longa duração'"
      ]
     },
     "execution_count": 23,
     "metadata": {},
     "output_type": "execute_result"
    }
   ],
   "source": [
    "consulta_2"
   ]
  },
  {
   "cell_type": "code",
   "execution_count": 24,
   "metadata": {},
   "outputs": [
    {
     "data": {
      "text/html": [
       "<div>\n",
       "<style scoped>\n",
       "    .dataframe tbody tr th:only-of-type {\n",
       "        vertical-align: middle;\n",
       "    }\n",
       "\n",
       "    .dataframe tbody tr th {\n",
       "        vertical-align: top;\n",
       "    }\n",
       "\n",
       "    .dataframe thead th {\n",
       "        text-align: right;\n",
       "    }\n",
       "</style>\n",
       "<table border=\"1\" class=\"dataframe\">\n",
       "  <thead>\n",
       "    <tr style=\"text-align: right;\">\n",
       "      <th></th>\n",
       "      <th>id</th>\n",
       "      <th>title</th>\n",
       "      <th>description</th>\n",
       "    </tr>\n",
       "  </thead>\n",
       "  <tbody>\n",
       "    <tr>\n",
       "      <th>0</th>\n",
       "      <td>3</td>\n",
       "      <td>Android Tv Led 43 '' Tcl 43s6500 Bluetooth , C...</td>\n",
       "      <td></td>\n",
       "    </tr>\n",
       "    <tr>\n",
       "      <th>1</th>\n",
       "      <td>52</td>\n",
       "      <td>Smart TV Android LED 32 '' Semp 32S5300 Blueto...</td>\n",
       "      <td></td>\n",
       "    </tr>\n",
       "    <tr>\n",
       "      <th>2</th>\n",
       "      <td>55</td>\n",
       "      <td>Smart TV LED 32 ” TCL S5200 HD HDR Android com...</td>\n",
       "      <td>A Smart TV LED 32 ” TCL S5200 é Sua TV é uma a...</td>\n",
       "    </tr>\n",
       "    <tr>\n",
       "      <th>3</th>\n",
       "      <td>16</td>\n",
       "      <td>Smart TV LED 50 ” TCL P615 4K UHD HDR Android ...</td>\n",
       "      <td>4K ANDORIDTV TV P615 , SUA TV É UMA ANDROID TV...</td>\n",
       "    </tr>\n",
       "    <tr>\n",
       "      <th>4</th>\n",
       "      <td>56</td>\n",
       "      <td>Smartphone Motorola Moto G60s 128GB 4G Wi-Fi T...</td>\n",
       "      <td>O Smartphone Motorola Moto G60s chegou para su...</td>\n",
       "    </tr>\n",
       "  </tbody>\n",
       "</table>\n",
       "</div>"
      ],
      "text/plain": [
       "   id                                              title  \\\n",
       "0   3  Android Tv Led 43 '' Tcl 43s6500 Bluetooth , C...   \n",
       "1  52  Smart TV Android LED 32 '' Semp 32S5300 Blueto...   \n",
       "2  55  Smart TV LED 32 ” TCL S5200 HD HDR Android com...   \n",
       "3  16  Smart TV LED 50 ” TCL P615 4K UHD HDR Android ...   \n",
       "4  56  Smartphone Motorola Moto G60s 128GB 4G Wi-Fi T...   \n",
       "\n",
       "                                         description  \n",
       "0                                                     \n",
       "1                                                     \n",
       "2  A Smart TV LED 32 ” TCL S5200 é Sua TV é uma a...  \n",
       "3  4K ANDORIDTV TV P615 , SUA TV É UMA ANDROID TV...  \n",
       "4  O Smartphone Motorola Moto G60s chegou para su...  "
      ]
     },
     "execution_count": 24,
     "metadata": {},
     "output_type": "execute_result"
    }
   ],
   "source": [
    "df_consulta2 = es.search(consulta_2)\n",
    "df_consulta2 = pd.DataFrame(df_consulta2)\n",
    "df_consulta2.head()"
   ]
  },
  {
   "cell_type": "code",
   "execution_count": 26,
   "metadata": {},
   "outputs": [],
   "source": [
    "df_result_search[\"consulta_2_B1\"] = df_consulta2[\"id\"]"
   ]
  },
  {
   "cell_type": "markdown",
   "metadata": {},
   "source": [
    "### Base 2"
   ]
  },
  {
   "cell_type": "code",
   "execution_count": 27,
   "metadata": {},
   "outputs": [],
   "source": [
    "b2 = Base2.to_dict('records')"
   ]
  },
  {
   "cell_type": "markdown",
   "metadata": {},
   "source": [
    "Criar indice da base 2"
   ]
  },
  {
   "cell_type": "code",
   "execution_count": 28,
   "metadata": {},
   "outputs": [
    {
     "data": {
      "text/plain": [
       "True"
      ]
     },
     "execution_count": 28,
     "metadata": {},
     "output_type": "execute_result"
    }
   ],
   "source": [
    "es = Elasticsearch_service(\"base_2\")\n",
    "es.create_index()"
   ]
  },
  {
   "cell_type": "code",
   "execution_count": 29,
   "metadata": {},
   "outputs": [
    {
     "data": {
      "text/plain": [
       "True"
      ]
     },
     "execution_count": 29,
     "metadata": {},
     "output_type": "execute_result"
    }
   ],
   "source": [
    "es.indexing(b2)"
   ]
  },
  {
   "cell_type": "markdown",
   "metadata": {},
   "source": [
    "##### Busca:"
   ]
  },
  {
   "cell_type": "markdown",
   "metadata": {},
   "source": [
    "Consulta 1"
   ]
  },
  {
   "cell_type": "code",
   "execution_count": 30,
   "metadata": {},
   "outputs": [],
   "source": [
    "q1_toke = nltk.word_tokenize(consulta_1)"
   ]
  },
  {
   "cell_type": "code",
   "execution_count": 31,
   "metadata": {},
   "outputs": [
    {
     "data": {
      "text/plain": [
       "'televisão tela bordas infinitas'"
      ]
     },
     "execution_count": 31,
     "metadata": {},
     "output_type": "execute_result"
    }
   ],
   "source": [
    "consulta_1b2 = remove_stopwords(q1_toke)\n",
    "consulta_1b2 = \" \".join(consulta_1b2)\n",
    "consulta_1b2"
   ]
  },
  {
   "cell_type": "code",
   "execution_count": 32,
   "metadata": {},
   "outputs": [
    {
     "data": {
      "text/html": [
       "<div>\n",
       "<style scoped>\n",
       "    .dataframe tbody tr th:only-of-type {\n",
       "        vertical-align: middle;\n",
       "    }\n",
       "\n",
       "    .dataframe tbody tr th {\n",
       "        vertical-align: top;\n",
       "    }\n",
       "\n",
       "    .dataframe thead th {\n",
       "        text-align: right;\n",
       "    }\n",
       "</style>\n",
       "<table border=\"1\" class=\"dataframe\">\n",
       "  <thead>\n",
       "    <tr style=\"text-align: right;\">\n",
       "      <th></th>\n",
       "      <th>id</th>\n",
       "      <th>title</th>\n",
       "      <th>description</th>\n",
       "    </tr>\n",
       "  </thead>\n",
       "  <tbody>\n",
       "    <tr>\n",
       "      <th>0</th>\n",
       "      <td>32</td>\n",
       "      <td>smart tv philips 43 '' full hd bordas hdr plus...</td>\n",
       "      <td></td>\n",
       "    </tr>\n",
       "    <tr>\n",
       "      <th>1</th>\n",
       "      <td>22</td>\n",
       "      <td>samsung smart tv led 43 '' full hd lh43betmlgg...</td>\n",
       "      <td>smart tv led 43 '' samsung lh43betmlggxzd , eq...</td>\n",
       "    </tr>\n",
       "    <tr>\n",
       "      <th>2</th>\n",
       "      <td>50</td>\n",
       "      <td>smart tv 40 '' philco ptv40g60snbl fhd tela in...</td>\n",
       "      <td>televisor tela 40 polegadas resolução hd . tec...</td>\n",
       "    </tr>\n",
       "    <tr>\n",
       "      <th>3</th>\n",
       "      <td>37</td>\n",
       "      <td>smart google tv philco 50 '' led borderless 4k...</td>\n",
       "      <td>televisor tela 50 polegadas resolução 4k uhd ....</td>\n",
       "    </tr>\n",
       "    <tr>\n",
       "      <th>4</th>\n",
       "      <td>69</td>\n",
       "      <td>smartphone motorola moto g20 128gb 4g wi-fi te...</td>\n",
       "      <td>conecte-se melhor smartphone motorola moto g20...</td>\n",
       "    </tr>\n",
       "  </tbody>\n",
       "</table>\n",
       "</div>"
      ],
      "text/plain": [
       "   id                                              title  \\\n",
       "0  32  smart tv philips 43 '' full hd bordas hdr plus...   \n",
       "1  22  samsung smart tv led 43 '' full hd lh43betmlgg...   \n",
       "2  50  smart tv 40 '' philco ptv40g60snbl fhd tela in...   \n",
       "3  37  smart google tv philco 50 '' led borderless 4k...   \n",
       "4  69  smartphone motorola moto g20 128gb 4g wi-fi te...   \n",
       "\n",
       "                                         description  \n",
       "0                                                     \n",
       "1  smart tv led 43 '' samsung lh43betmlggxzd , eq...  \n",
       "2  televisor tela 40 polegadas resolução hd . tec...  \n",
       "3  televisor tela 50 polegadas resolução 4k uhd ....  \n",
       "4  conecte-se melhor smartphone motorola moto g20...  "
      ]
     },
     "execution_count": 32,
     "metadata": {},
     "output_type": "execute_result"
    }
   ],
   "source": [
    "df_consulta1 = es.search(consulta_1b2)\n",
    "df_consulta1 = pd.DataFrame(df_consulta1)\n",
    "df_consulta1.head()"
   ]
  },
  {
   "cell_type": "code",
   "execution_count": 33,
   "metadata": {},
   "outputs": [],
   "source": [
    "df_result_search[\"consulta_1_B2\"] = df_consulta1[\"id\"]"
   ]
  },
  {
   "cell_type": "markdown",
   "metadata": {},
   "source": [
    "Consulta 2"
   ]
  },
  {
   "cell_type": "code",
   "execution_count": 34,
   "metadata": {},
   "outputs": [],
   "source": [
    "q2_toke = nltk.word_tokenize(consulta_2)"
   ]
  },
  {
   "cell_type": "code",
   "execution_count": 35,
   "metadata": {},
   "outputs": [
    {
     "data": {
      "text/plain": [
       "'smartphone samsung android baterias longa duração'"
      ]
     },
     "execution_count": 35,
     "metadata": {},
     "output_type": "execute_result"
    }
   ],
   "source": [
    "consulta_2b2 = remove_stopwords(q2_toke)\n",
    "consulta_2b2 = \" \".join(consulta_2b2)\n",
    "consulta_2b2"
   ]
  },
  {
   "cell_type": "code",
   "execution_count": 36,
   "metadata": {},
   "outputs": [
    {
     "data": {
      "text/html": [
       "<div>\n",
       "<style scoped>\n",
       "    .dataframe tbody tr th:only-of-type {\n",
       "        vertical-align: middle;\n",
       "    }\n",
       "\n",
       "    .dataframe tbody tr th {\n",
       "        vertical-align: top;\n",
       "    }\n",
       "\n",
       "    .dataframe thead th {\n",
       "        text-align: right;\n",
       "    }\n",
       "</style>\n",
       "<table border=\"1\" class=\"dataframe\">\n",
       "  <thead>\n",
       "    <tr style=\"text-align: right;\">\n",
       "      <th></th>\n",
       "      <th>id</th>\n",
       "      <th>title</th>\n",
       "      <th>description</th>\n",
       "    </tr>\n",
       "  </thead>\n",
       "  <tbody>\n",
       "    <tr>\n",
       "      <th>0</th>\n",
       "      <td>72</td>\n",
       "      <td>smartphone motorola moto e7 32gb 4g wi-fi tela...</td>\n",
       "      <td>merece ter smartphone tecnológico ideal ativid...</td>\n",
       "    </tr>\n",
       "    <tr>\n",
       "      <th>1</th>\n",
       "      <td>82</td>\n",
       "      <td>smartphone motorola moto e7 32gb 4g wi-fi tela...</td>\n",
       "      <td>merece ter smartphone tecnológico ideal ativid...</td>\n",
       "    </tr>\n",
       "    <tr>\n",
       "      <th>2</th>\n",
       "      <td>56</td>\n",
       "      <td>smartphone motorola moto g60s 128gb 4g wi-fi t...</td>\n",
       "      <td>smartphone motorola moto g60s chegou surpreend...</td>\n",
       "    </tr>\n",
       "    <tr>\n",
       "      <th>3</th>\n",
       "      <td>77</td>\n",
       "      <td>smartphone motorola moto g60s 128gb 4g wi-fi t...</td>\n",
       "      <td>smartphone motorola moto g60s chegou surpreend...</td>\n",
       "    </tr>\n",
       "    <tr>\n",
       "      <th>4</th>\n",
       "      <td>64</td>\n",
       "      <td>smartphone samsung galaxy a02s 32gb 4g wi-fi t...</td>\n",
       "      <td>smartphone samsung galaxy a02s conta design co...</td>\n",
       "    </tr>\n",
       "  </tbody>\n",
       "</table>\n",
       "</div>"
      ],
      "text/plain": [
       "   id                                              title  \\\n",
       "0  72  smartphone motorola moto e7 32gb 4g wi-fi tela...   \n",
       "1  82  smartphone motorola moto e7 32gb 4g wi-fi tela...   \n",
       "2  56  smartphone motorola moto g60s 128gb 4g wi-fi t...   \n",
       "3  77  smartphone motorola moto g60s 128gb 4g wi-fi t...   \n",
       "4  64  smartphone samsung galaxy a02s 32gb 4g wi-fi t...   \n",
       "\n",
       "                                         description  \n",
       "0  merece ter smartphone tecnológico ideal ativid...  \n",
       "1  merece ter smartphone tecnológico ideal ativid...  \n",
       "2  smartphone motorola moto g60s chegou surpreend...  \n",
       "3  smartphone motorola moto g60s chegou surpreend...  \n",
       "4  smartphone samsung galaxy a02s conta design co...  "
      ]
     },
     "execution_count": 36,
     "metadata": {},
     "output_type": "execute_result"
    }
   ],
   "source": [
    "df_consulta2 = es.search(consulta_2b2)\n",
    "df_consulta2 = pd.DataFrame(df_consulta2)\n",
    "df_consulta2.head()"
   ]
  },
  {
   "cell_type": "code",
   "execution_count": 37,
   "metadata": {},
   "outputs": [],
   "source": [
    "df_result_search[\"consulta_2_B2\"] = df_consulta2[\"id\"]"
   ]
  },
  {
   "cell_type": "markdown",
   "metadata": {},
   "source": [
    "### Base 3"
   ]
  },
  {
   "cell_type": "code",
   "execution_count": 38,
   "metadata": {},
   "outputs": [],
   "source": [
    "b3 = Base3.to_dict('records')"
   ]
  },
  {
   "cell_type": "markdown",
   "metadata": {},
   "source": [
    "Criar indice da base 3"
   ]
  },
  {
   "cell_type": "code",
   "execution_count": 39,
   "metadata": {},
   "outputs": [
    {
     "data": {
      "text/plain": [
       "True"
      ]
     },
     "execution_count": 39,
     "metadata": {},
     "output_type": "execute_result"
    }
   ],
   "source": [
    "es = Elasticsearch_service(\"base_3\")\n",
    "es.create_index()"
   ]
  },
  {
   "cell_type": "code",
   "execution_count": 40,
   "metadata": {},
   "outputs": [
    {
     "data": {
      "text/plain": [
       "True"
      ]
     },
     "execution_count": 40,
     "metadata": {},
     "output_type": "execute_result"
    }
   ],
   "source": [
    "es.indexing(b3)"
   ]
  },
  {
   "cell_type": "markdown",
   "metadata": {},
   "source": [
    "##### Busca:"
   ]
  },
  {
   "cell_type": "markdown",
   "metadata": {},
   "source": [
    "Consulta 1"
   ]
  },
  {
   "cell_type": "code",
   "execution_count": 41,
   "metadata": {},
   "outputs": [
    {
     "data": {
      "text/plain": [
       "'televis com tel de bord infinit'"
      ]
     },
     "execution_count": 41,
     "metadata": {},
     "output_type": "execute_result"
    }
   ],
   "source": [
    "consulta_1b3 = stemming(q1_toke)\n",
    "consulta_1b3 = \" \".join(consulta_1b3)\n",
    "consulta_1b3"
   ]
  },
  {
   "cell_type": "code",
   "execution_count": 42,
   "metadata": {},
   "outputs": [
    {
     "data": {
      "text/html": [
       "<div>\n",
       "<style scoped>\n",
       "    .dataframe tbody tr th:only-of-type {\n",
       "        vertical-align: middle;\n",
       "    }\n",
       "\n",
       "    .dataframe tbody tr th {\n",
       "        vertical-align: top;\n",
       "    }\n",
       "\n",
       "    .dataframe thead th {\n",
       "        text-align: right;\n",
       "    }\n",
       "</style>\n",
       "<table border=\"1\" class=\"dataframe\">\n",
       "  <thead>\n",
       "    <tr style=\"text-align: right;\">\n",
       "      <th></th>\n",
       "      <th>id</th>\n",
       "      <th>title</th>\n",
       "      <th>description</th>\n",
       "    </tr>\n",
       "  </thead>\n",
       "  <tbody>\n",
       "    <tr>\n",
       "      <th>0</th>\n",
       "      <td>4</td>\n",
       "      <td>smart tv led 55 ” philc ptv55q20snbl ultr hd 4...</td>\n",
       "      <td></td>\n",
       "    </tr>\n",
       "    <tr>\n",
       "      <th>1</th>\n",
       "      <td>50</td>\n",
       "      <td>smart tv 40 '' philc ptv40g60snbl fhd com tel ...</td>\n",
       "      <td>televi com tel de 40 poleg em resoluç hd . tec...</td>\n",
       "    </tr>\n",
       "    <tr>\n",
       "      <th>2</th>\n",
       "      <td>5</td>\n",
       "      <td>samsung smart tv 65 '' qled 8k 65q800t , proce...</td>\n",
       "      <td></td>\n",
       "    </tr>\n",
       "    <tr>\n",
       "      <th>3</th>\n",
       "      <td>3</td>\n",
       "      <td>android tv led 43 '' tcl 43s6500 bluetooth , c...</td>\n",
       "      <td></td>\n",
       "    </tr>\n",
       "    <tr>\n",
       "      <th>4</th>\n",
       "      <td>52</td>\n",
       "      <td>smart tv android led 32 '' semp 32s5300 blueto...</td>\n",
       "      <td></td>\n",
       "    </tr>\n",
       "  </tbody>\n",
       "</table>\n",
       "</div>"
      ],
      "text/plain": [
       "   id                                              title  \\\n",
       "0   4  smart tv led 55 ” philc ptv55q20snbl ultr hd 4...   \n",
       "1  50  smart tv 40 '' philc ptv40g60snbl fhd com tel ...   \n",
       "2   5  samsung smart tv 65 '' qled 8k 65q800t , proce...   \n",
       "3   3  android tv led 43 '' tcl 43s6500 bluetooth , c...   \n",
       "4  52  smart tv android led 32 '' semp 32s5300 blueto...   \n",
       "\n",
       "                                         description  \n",
       "0                                                     \n",
       "1  televi com tel de 40 poleg em resoluç hd . tec...  \n",
       "2                                                     \n",
       "3                                                     \n",
       "4                                                     "
      ]
     },
     "execution_count": 42,
     "metadata": {},
     "output_type": "execute_result"
    }
   ],
   "source": [
    "df_consulta1 = es.search(consulta_1b3)\n",
    "df_consulta1 = pd.DataFrame(df_consulta1)\n",
    "df_consulta1.head()"
   ]
  },
  {
   "cell_type": "code",
   "execution_count": 43,
   "metadata": {},
   "outputs": [],
   "source": [
    "df_result_search[\"consulta_1_B3\"] = df_consulta1[\"id\"]"
   ]
  },
  {
   "cell_type": "markdown",
   "metadata": {},
   "source": [
    "Consulta 2"
   ]
  },
  {
   "cell_type": "code",
   "execution_count": 44,
   "metadata": {},
   "outputs": [
    {
     "data": {
      "text/plain": [
       "'smartphon samsung android com bat de long dur'"
      ]
     },
     "execution_count": 44,
     "metadata": {},
     "output_type": "execute_result"
    }
   ],
   "source": [
    "consulta_2b3 = stemming(q2_toke)\n",
    "consulta_2b3 = \" \".join(consulta_2b3)\n",
    "consulta_2b3"
   ]
  },
  {
   "cell_type": "code",
   "execution_count": 45,
   "metadata": {},
   "outputs": [
    {
     "data": {
      "text/html": [
       "<div>\n",
       "<style scoped>\n",
       "    .dataframe tbody tr th:only-of-type {\n",
       "        vertical-align: middle;\n",
       "    }\n",
       "\n",
       "    .dataframe tbody tr th {\n",
       "        vertical-align: top;\n",
       "    }\n",
       "\n",
       "    .dataframe thead th {\n",
       "        text-align: right;\n",
       "    }\n",
       "</style>\n",
       "<table border=\"1\" class=\"dataframe\">\n",
       "  <thead>\n",
       "    <tr style=\"text-align: right;\">\n",
       "      <th></th>\n",
       "      <th>id</th>\n",
       "      <th>title</th>\n",
       "      <th>description</th>\n",
       "    </tr>\n",
       "  </thead>\n",
       "  <tbody>\n",
       "    <tr>\n",
       "      <th>0</th>\n",
       "      <td>3</td>\n",
       "      <td>android tv led 43 '' tcl 43s6500 bluetooth , c...</td>\n",
       "      <td></td>\n",
       "    </tr>\n",
       "    <tr>\n",
       "      <th>1</th>\n",
       "      <td>94</td>\n",
       "      <td>smartphon samsung galaxy m62 128gb 8gb ram bat...</td>\n",
       "      <td></td>\n",
       "    </tr>\n",
       "    <tr>\n",
       "      <th>2</th>\n",
       "      <td>99</td>\n",
       "      <td>smartphon samsung galaxy m62 128gb 8gb ram bat...</td>\n",
       "      <td></td>\n",
       "    </tr>\n",
       "    <tr>\n",
       "      <th>3</th>\n",
       "      <td>52</td>\n",
       "      <td>smart tv android led 32 '' semp 32s5300 blueto...</td>\n",
       "      <td></td>\n",
       "    </tr>\n",
       "    <tr>\n",
       "      <th>4</th>\n",
       "      <td>56</td>\n",
       "      <td>smartphon motorol mot g60 128gb 4g wi-f tel 6,...</td>\n",
       "      <td>o smartphon motorol mot g60 cheg par surpreend...</td>\n",
       "    </tr>\n",
       "  </tbody>\n",
       "</table>\n",
       "</div>"
      ],
      "text/plain": [
       "   id                                              title  \\\n",
       "0   3  android tv led 43 '' tcl 43s6500 bluetooth , c...   \n",
       "1  94  smartphon samsung galaxy m62 128gb 8gb ram bat...   \n",
       "2  99  smartphon samsung galaxy m62 128gb 8gb ram bat...   \n",
       "3  52  smart tv android led 32 '' semp 32s5300 blueto...   \n",
       "4  56  smartphon motorol mot g60 128gb 4g wi-f tel 6,...   \n",
       "\n",
       "                                         description  \n",
       "0                                                     \n",
       "1                                                     \n",
       "2                                                     \n",
       "3                                                     \n",
       "4  o smartphon motorol mot g60 cheg par surpreend...  "
      ]
     },
     "execution_count": 45,
     "metadata": {},
     "output_type": "execute_result"
    }
   ],
   "source": [
    "df_consulta2 = es.search(consulta_2b3)\n",
    "df_consulta2 = pd.DataFrame(df_consulta2)\n",
    "df_consulta2.head()"
   ]
  },
  {
   "cell_type": "code",
   "execution_count": 46,
   "metadata": {},
   "outputs": [],
   "source": [
    "df_result_search[\"consulta_2_B3\"] = df_consulta1[\"id\"]"
   ]
  },
  {
   "cell_type": "markdown",
   "metadata": {},
   "source": [
    "### Base 4"
   ]
  },
  {
   "cell_type": "code",
   "execution_count": 47,
   "metadata": {},
   "outputs": [],
   "source": [
    "b4 = Base4.to_dict('records')"
   ]
  },
  {
   "cell_type": "markdown",
   "metadata": {},
   "source": [
    "Criar indice da base 4"
   ]
  },
  {
   "cell_type": "code",
   "execution_count": 48,
   "metadata": {},
   "outputs": [
    {
     "data": {
      "text/plain": [
       "True"
      ]
     },
     "execution_count": 48,
     "metadata": {},
     "output_type": "execute_result"
    }
   ],
   "source": [
    "es = Elasticsearch_service(\"base_4\")\n",
    "es.create_index()"
   ]
  },
  {
   "cell_type": "code",
   "execution_count": 49,
   "metadata": {},
   "outputs": [
    {
     "data": {
      "text/plain": [
       "True"
      ]
     },
     "execution_count": 49,
     "metadata": {},
     "output_type": "execute_result"
    }
   ],
   "source": [
    "es.indexing(b4)"
   ]
  },
  {
   "cell_type": "markdown",
   "metadata": {},
   "source": [
    "##### Busca:"
   ]
  },
  {
   "cell_type": "markdown",
   "metadata": {},
   "source": [
    "Consulta 1"
   ]
  },
  {
   "cell_type": "code",
   "execution_count": 50,
   "metadata": {},
   "outputs": [
    {
     "data": {
      "text/plain": [
       "'televis tel bord infinit'"
      ]
     },
     "execution_count": 50,
     "metadata": {},
     "output_type": "execute_result"
    }
   ],
   "source": [
    "consulta_1b4 = remove_stopwords(q1_toke)\n",
    "consulta_1b4 = stemming(consulta_1b4)\n",
    "consulta_1b4 = \" \".join(consulta_1b4)\n",
    "consulta_1b4"
   ]
  },
  {
   "cell_type": "code",
   "execution_count": 51,
   "metadata": {},
   "outputs": [
    {
     "data": {
      "text/html": [
       "<div>\n",
       "<style scoped>\n",
       "    .dataframe tbody tr th:only-of-type {\n",
       "        vertical-align: middle;\n",
       "    }\n",
       "\n",
       "    .dataframe tbody tr th {\n",
       "        vertical-align: top;\n",
       "    }\n",
       "\n",
       "    .dataframe thead th {\n",
       "        text-align: right;\n",
       "    }\n",
       "</style>\n",
       "<table border=\"1\" class=\"dataframe\">\n",
       "  <thead>\n",
       "    <tr style=\"text-align: right;\">\n",
       "      <th></th>\n",
       "      <th>id</th>\n",
       "      <th>title</th>\n",
       "      <th>description</th>\n",
       "    </tr>\n",
       "  </thead>\n",
       "  <tbody>\n",
       "    <tr>\n",
       "      <th>0</th>\n",
       "      <td>4</td>\n",
       "      <td>smart tv led 55 ” philc ptv55q20snbl ultr hd 4...</td>\n",
       "      <td></td>\n",
       "    </tr>\n",
       "    <tr>\n",
       "      <th>1</th>\n",
       "      <td>5</td>\n",
       "      <td>samsung smart tv 65 '' qled 8k 65q800t , proce...</td>\n",
       "      <td></td>\n",
       "    </tr>\n",
       "    <tr>\n",
       "      <th>2</th>\n",
       "      <td>50</td>\n",
       "      <td>smart tv 40 '' philc ptv40g60snbl fhd tel infi...</td>\n",
       "      <td>televi tel 40 poleg resoluç hd . tecnolog smar...</td>\n",
       "    </tr>\n",
       "    <tr>\n",
       "      <th>3</th>\n",
       "      <td>32</td>\n",
       "      <td>smart tv philip 43 '' full hd bord hdr plu wif...</td>\n",
       "      <td></td>\n",
       "    </tr>\n",
       "    <tr>\n",
       "      <th>4</th>\n",
       "      <td>64</td>\n",
       "      <td>smartphon samsung galaxy a02 32gb 4g wi-f tel ...</td>\n",
       "      <td>smartphon samsung galaxy a02 cont design compa...</td>\n",
       "    </tr>\n",
       "  </tbody>\n",
       "</table>\n",
       "</div>"
      ],
      "text/plain": [
       "   id                                              title  \\\n",
       "0   4  smart tv led 55 ” philc ptv55q20snbl ultr hd 4...   \n",
       "1   5  samsung smart tv 65 '' qled 8k 65q800t , proce...   \n",
       "2  50  smart tv 40 '' philc ptv40g60snbl fhd tel infi...   \n",
       "3  32  smart tv philip 43 '' full hd bord hdr plu wif...   \n",
       "4  64  smartphon samsung galaxy a02 32gb 4g wi-f tel ...   \n",
       "\n",
       "                                         description  \n",
       "0                                                     \n",
       "1                                                     \n",
       "2  televi tel 40 poleg resoluç hd . tecnolog smar...  \n",
       "3                                                     \n",
       "4  smartphon samsung galaxy a02 cont design compa...  "
      ]
     },
     "execution_count": 51,
     "metadata": {},
     "output_type": "execute_result"
    }
   ],
   "source": [
    "df_consulta1 = es.search(consulta_1b4)\n",
    "df_consulta1 = pd.DataFrame(df_consulta1)\n",
    "df_consulta1.head()"
   ]
  },
  {
   "cell_type": "code",
   "execution_count": 52,
   "metadata": {},
   "outputs": [],
   "source": [
    "df_result_search[\"consulta_1_B4\"] = df_consulta1[\"id\"]"
   ]
  },
  {
   "cell_type": "markdown",
   "metadata": {},
   "source": [
    "Consulta 2"
   ]
  },
  {
   "cell_type": "code",
   "execution_count": 53,
   "metadata": {},
   "outputs": [
    {
     "data": {
      "text/plain": [
       "'smartphon samsung android bat long dur'"
      ]
     },
     "execution_count": 53,
     "metadata": {},
     "output_type": "execute_result"
    }
   ],
   "source": [
    "consulta_2b4 = remove_stopwords(q2_toke)\n",
    "consulta_2b4 = stemming(consulta_2b4)\n",
    "consulta_2b4 = \" \".join(consulta_2b4)\n",
    "consulta_2b4"
   ]
  },
  {
   "cell_type": "code",
   "execution_count": 54,
   "metadata": {},
   "outputs": [
    {
     "data": {
      "text/html": [
       "<div>\n",
       "<style scoped>\n",
       "    .dataframe tbody tr th:only-of-type {\n",
       "        vertical-align: middle;\n",
       "    }\n",
       "\n",
       "    .dataframe tbody tr th {\n",
       "        vertical-align: top;\n",
       "    }\n",
       "\n",
       "    .dataframe thead th {\n",
       "        text-align: right;\n",
       "    }\n",
       "</style>\n",
       "<table border=\"1\" class=\"dataframe\">\n",
       "  <thead>\n",
       "    <tr style=\"text-align: right;\">\n",
       "      <th></th>\n",
       "      <th>id</th>\n",
       "      <th>title</th>\n",
       "      <th>description</th>\n",
       "    </tr>\n",
       "  </thead>\n",
       "  <tbody>\n",
       "    <tr>\n",
       "      <th>0</th>\n",
       "      <td>94</td>\n",
       "      <td>smartphon samsung galaxy m62 128gb 8gb ram bat...</td>\n",
       "      <td></td>\n",
       "    </tr>\n",
       "    <tr>\n",
       "      <th>1</th>\n",
       "      <td>99</td>\n",
       "      <td>smartphon samsung galaxy m62 128gb 8gb ram bat...</td>\n",
       "      <td></td>\n",
       "    </tr>\n",
       "    <tr>\n",
       "      <th>2</th>\n",
       "      <td>72</td>\n",
       "      <td>smartphon motorol mot e7 32gb 4g wi-f tel 6.5 ...</td>\n",
       "      <td>merec ter smartphon tecnológ ideal ativ diár ....</td>\n",
       "    </tr>\n",
       "    <tr>\n",
       "      <th>3</th>\n",
       "      <td>82</td>\n",
       "      <td>smartphon motorol mot e7 32gb 4g wi-f tel 6.5 ...</td>\n",
       "      <td>merec ter smartphon tecnológ ideal ativ diár ....</td>\n",
       "    </tr>\n",
       "    <tr>\n",
       "      <th>4</th>\n",
       "      <td>56</td>\n",
       "      <td>smartphon motorol mot g60 128gb 4g wi-f tel 6,...</td>\n",
       "      <td>smartphon motorol mot g60 cheg surpreend apaix...</td>\n",
       "    </tr>\n",
       "  </tbody>\n",
       "</table>\n",
       "</div>"
      ],
      "text/plain": [
       "   id                                              title  \\\n",
       "0  94  smartphon samsung galaxy m62 128gb 8gb ram bat...   \n",
       "1  99  smartphon samsung galaxy m62 128gb 8gb ram bat...   \n",
       "2  72  smartphon motorol mot e7 32gb 4g wi-f tel 6.5 ...   \n",
       "3  82  smartphon motorol mot e7 32gb 4g wi-f tel 6.5 ...   \n",
       "4  56  smartphon motorol mot g60 128gb 4g wi-f tel 6,...   \n",
       "\n",
       "                                         description  \n",
       "0                                                     \n",
       "1                                                     \n",
       "2  merec ter smartphon tecnológ ideal ativ diár ....  \n",
       "3  merec ter smartphon tecnológ ideal ativ diár ....  \n",
       "4  smartphon motorol mot g60 cheg surpreend apaix...  "
      ]
     },
     "execution_count": 54,
     "metadata": {},
     "output_type": "execute_result"
    }
   ],
   "source": [
    "df_consulta2 = es.search(consulta_2b4)\n",
    "df_consulta2 = pd.DataFrame(df_consulta2)\n",
    "df_consulta2.head()"
   ]
  },
  {
   "cell_type": "code",
   "execution_count": 55,
   "metadata": {},
   "outputs": [],
   "source": [
    "df_result_search[\"consulta_2_B4\"] = df_consulta2[\"id\"]"
   ]
  },
  {
   "cell_type": "markdown",
   "metadata": {},
   "source": [
    "Write data"
   ]
  },
  {
   "cell_type": "code",
   "execution_count": 62,
   "metadata": {},
   "outputs": [
    {
     "data": {
      "text/html": [
       "<div>\n",
       "<style scoped>\n",
       "    .dataframe tbody tr th:only-of-type {\n",
       "        vertical-align: middle;\n",
       "    }\n",
       "\n",
       "    .dataframe tbody tr th {\n",
       "        vertical-align: top;\n",
       "    }\n",
       "\n",
       "    .dataframe thead th {\n",
       "        text-align: right;\n",
       "    }\n",
       "</style>\n",
       "<table border=\"1\" class=\"dataframe\">\n",
       "  <thead>\n",
       "    <tr style=\"text-align: right;\">\n",
       "      <th></th>\n",
       "      <th>consulta_1_B1</th>\n",
       "      <th>consulta_2_B1</th>\n",
       "      <th>consulta_1_B2</th>\n",
       "      <th>consulta_2_B2</th>\n",
       "      <th>consulta_1_B3</th>\n",
       "      <th>consulta_2_B3</th>\n",
       "      <th>consulta_1_B4</th>\n",
       "      <th>consulta_2_B4</th>\n",
       "    </tr>\n",
       "  </thead>\n",
       "  <tbody>\n",
       "    <tr>\n",
       "      <th>0</th>\n",
       "      <td>50</td>\n",
       "      <td>3.0</td>\n",
       "      <td>32.0</td>\n",
       "      <td>72.0</td>\n",
       "      <td>4</td>\n",
       "      <td>4</td>\n",
       "      <td>4.0</td>\n",
       "      <td>94.0</td>\n",
       "    </tr>\n",
       "    <tr>\n",
       "      <th>1</th>\n",
       "      <td>3</td>\n",
       "      <td>52.0</td>\n",
       "      <td>22.0</td>\n",
       "      <td>82.0</td>\n",
       "      <td>50</td>\n",
       "      <td>50</td>\n",
       "      <td>5.0</td>\n",
       "      <td>99.0</td>\n",
       "    </tr>\n",
       "    <tr>\n",
       "      <th>2</th>\n",
       "      <td>32</td>\n",
       "      <td>55.0</td>\n",
       "      <td>50.0</td>\n",
       "      <td>56.0</td>\n",
       "      <td>5</td>\n",
       "      <td>5</td>\n",
       "      <td>50.0</td>\n",
       "      <td>72.0</td>\n",
       "    </tr>\n",
       "    <tr>\n",
       "      <th>3</th>\n",
       "      <td>52</td>\n",
       "      <td>16.0</td>\n",
       "      <td>37.0</td>\n",
       "      <td>77.0</td>\n",
       "      <td>3</td>\n",
       "      <td>3</td>\n",
       "      <td>32.0</td>\n",
       "      <td>82.0</td>\n",
       "    </tr>\n",
       "    <tr>\n",
       "      <th>4</th>\n",
       "      <td>94</td>\n",
       "      <td>56.0</td>\n",
       "      <td>69.0</td>\n",
       "      <td>64.0</td>\n",
       "      <td>52</td>\n",
       "      <td>52</td>\n",
       "      <td>64.0</td>\n",
       "      <td>56.0</td>\n",
       "    </tr>\n",
       "    <tr>\n",
       "      <th>...</th>\n",
       "      <td>...</td>\n",
       "      <td>...</td>\n",
       "      <td>...</td>\n",
       "      <td>...</td>\n",
       "      <td>...</td>\n",
       "      <td>...</td>\n",
       "      <td>...</td>\n",
       "      <td>...</td>\n",
       "    </tr>\n",
       "    <tr>\n",
       "      <th>87</th>\n",
       "      <td>95</td>\n",
       "      <td>33.0</td>\n",
       "      <td>NaN</td>\n",
       "      <td>NaN</td>\n",
       "      <td>104</td>\n",
       "      <td>104</td>\n",
       "      <td>NaN</td>\n",
       "      <td>NaN</td>\n",
       "    </tr>\n",
       "    <tr>\n",
       "      <th>88</th>\n",
       "      <td>34</td>\n",
       "      <td>28.0</td>\n",
       "      <td>NaN</td>\n",
       "      <td>NaN</td>\n",
       "      <td>60</td>\n",
       "      <td>60</td>\n",
       "      <td>NaN</td>\n",
       "      <td>NaN</td>\n",
       "    </tr>\n",
       "    <tr>\n",
       "      <th>89</th>\n",
       "      <td>20</td>\n",
       "      <td>34.0</td>\n",
       "      <td>NaN</td>\n",
       "      <td>NaN</td>\n",
       "      <td>20</td>\n",
       "      <td>20</td>\n",
       "      <td>NaN</td>\n",
       "      <td>NaN</td>\n",
       "    </tr>\n",
       "    <tr>\n",
       "      <th>90</th>\n",
       "      <td>48</td>\n",
       "      <td>1.0</td>\n",
       "      <td>NaN</td>\n",
       "      <td>NaN</td>\n",
       "      <td>48</td>\n",
       "      <td>48</td>\n",
       "      <td>NaN</td>\n",
       "      <td>NaN</td>\n",
       "    </tr>\n",
       "    <tr>\n",
       "      <th>91</th>\n",
       "      <td>1</td>\n",
       "      <td>NaN</td>\n",
       "      <td>NaN</td>\n",
       "      <td>NaN</td>\n",
       "      <td>1</td>\n",
       "      <td>1</td>\n",
       "      <td>NaN</td>\n",
       "      <td>NaN</td>\n",
       "    </tr>\n",
       "  </tbody>\n",
       "</table>\n",
       "<p>92 rows × 8 columns</p>\n",
       "</div>"
      ],
      "text/plain": [
       "    consulta_1_B1  consulta_2_B1  consulta_1_B2  consulta_2_B2  consulta_1_B3  \\\n",
       "0              50            3.0           32.0           72.0              4   \n",
       "1               3           52.0           22.0           82.0             50   \n",
       "2              32           55.0           50.0           56.0              5   \n",
       "3              52           16.0           37.0           77.0              3   \n",
       "4              94           56.0           69.0           64.0             52   \n",
       "..            ...            ...            ...            ...            ...   \n",
       "87             95           33.0            NaN            NaN            104   \n",
       "88             34           28.0            NaN            NaN             60   \n",
       "89             20           34.0            NaN            NaN             20   \n",
       "90             48            1.0            NaN            NaN             48   \n",
       "91              1            NaN            NaN            NaN              1   \n",
       "\n",
       "    consulta_2_B3  consulta_1_B4  consulta_2_B4  \n",
       "0               4            4.0           94.0  \n",
       "1              50            5.0           99.0  \n",
       "2               5           50.0           72.0  \n",
       "3               3           32.0           82.0  \n",
       "4              52           64.0           56.0  \n",
       "..            ...            ...            ...  \n",
       "87            104            NaN            NaN  \n",
       "88             60            NaN            NaN  \n",
       "89             20            NaN            NaN  \n",
       "90             48            NaN            NaN  \n",
       "91              1            NaN            NaN  \n",
       "\n",
       "[92 rows x 8 columns]"
      ]
     },
     "execution_count": 62,
     "metadata": {},
     "output_type": "execute_result"
    }
   ],
   "source": [
    "df_result_search"
   ]
  },
  {
   "cell_type": "code",
   "execution_count": 63,
   "metadata": {},
   "outputs": [],
   "source": [
    "df_result_search.reset_index().to_csv(\"../data/result_search.csv\", index=False)"
   ]
  }
 ],
 "metadata": {
  "kernelspec": {
   "display_name": "Python 3",
   "language": "python",
   "name": "python3"
  },
  "language_info": {
   "codemirror_mode": {
    "name": "ipython",
    "version": 3
   },
   "file_extension": ".py",
   "mimetype": "text/x-python",
   "name": "python",
   "nbconvert_exporter": "python",
   "pygments_lexer": "ipython3",
   "version": "3.8.3"
  }
 },
 "nbformat": 4,
 "nbformat_minor": 4
}
